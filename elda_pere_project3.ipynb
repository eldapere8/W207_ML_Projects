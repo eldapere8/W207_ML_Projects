{
  "nbformat": 4,
  "nbformat_minor": 0,
  "metadata": {
    "kernelspec": {
      "display_name": "Python 3",
      "language": "python",
      "name": "python3"
    },
    "language_info": {
      "codemirror_mode": {
        "name": "ipython",
        "version": 3
      },
      "file_extension": ".py",
      "mimetype": "text/x-python",
      "name": "python",
      "nbconvert_exporter": "python",
      "pygments_lexer": "ipython3",
      "version": "3.7.4"
    },
    "toc": {
      "base_numbering": 1,
      "nav_menu": {},
      "number_sections": false,
      "sideBar": true,
      "skip_h1_title": true,
      "title_cell": "Table of Contents",
      "title_sidebar": "Contents",
      "toc_cell": false,
      "toc_position": {},
      "toc_section_display": true,
      "toc_window_display": false
    },
    "colab": {
      "name": "elda_pere_project3.ipynb",
      "provenance": [],
      "collapsed_sections": [],
      "include_colab_link": true
    }
  },
  "cells": [
    {
      "cell_type": "markdown",
      "metadata": {
        "id": "view-in-github",
        "colab_type": "text"
      },
      "source": [
        "<a href=\"https://colab.research.google.com/github/eldapere8/W207_ML_Projects/blob/main/elda_pere_project3.ipynb\" target=\"_parent\"><img src=\"https://colab.research.google.com/assets/colab-badge.svg\" alt=\"Open In Colab\"/></a>"
      ]
    },
    {
      "cell_type": "markdown",
      "metadata": {
        "id": "rWAjdfIsTyhI"
      },
      "source": [
        "# Project 3: Topic Classification using Naive Bayes\n",
        "\n",
        "**Solution**"
      ]
    },
    {
      "cell_type": "markdown",
      "metadata": {
        "id": "p0KwRzrQTyhL"
      },
      "source": [
        "# Intro\n",
        "---\n",
        "In this project, you'll work with text data from newsgroup posts on a variety of topics. You'll train classifiers to distinguish posts by topics inferred from the text. Whereas with digit classification, where each input is relatively **dense** (represented as a 28x28 matrix of pixels, many of which are non-zero), here each document is relatively **sparse** (represented as a **bag-of-words**). Only a few words of the total vocabulary are active in any given document. The assumption is that a label depends only on the count of words, not their order.\n",
        "\n",
        "The `sklearn` documentation on feature extraction may be useful:\n",
        "http://scikit-learn.org/stable/modules/feature_extraction.html\n",
        "\n",
        "Each problem can be addressed succinctly with the included packages -- please don't add any more. Grading will be based on writing clean, commented code, along with a few short answers.\n",
        "\n",
        "As always, you're welcome to work on the project in groups and discuss ideas on Slack, but <b> please prepare your own write-up with your own code. </b>\n",
        "\n",
        "## Grading\n",
        "---\n",
        "- Make sure to answer every part in every question.\n",
        " - There are 7 questions and one extra credit question. \n",
        " - Read carefully what is asked including the notes.\n",
        " - Additional points may be deducted if:\n",
        "   - the code is not clean and well commented, \n",
        "   - and if the functions or answers are too long.\n",
        "\n",
        " ## Requirements:\n",
        "---\n",
        "1. Comment your code.\n",
        "1. All graphs should have titles, label for each axis, and if needed a legend. It should be understandable on its own.\n",
        "1. All code must run on colab.research.google.com\n",
        "1. You should not import any additional libraries.\n",
        "1. Try and minimize the use of the global namespace (meaning keep things in functions).\n",
        "\n"
      ]
    },
    {
      "cell_type": "code",
      "metadata": {
        "id": "QNNjknnZTyhN"
      },
      "source": [
        "# This tells matplotlib not to try opening a new window for each plot.\n",
        "%matplotlib inline\n",
        "\n",
        "# General libraries.\n",
        "import re\n",
        "import numpy as np\n",
        "import pandas as pd\n",
        "import matplotlib.pyplot as plt\n",
        "\n",
        "# SK-learn libraries for learning.\n",
        "from sklearn.pipeline import Pipeline\n",
        "from sklearn.neighbors import KNeighborsClassifier\n",
        "from sklearn.linear_model import LogisticRegression\n",
        "from sklearn.naive_bayes import BernoulliNB\n",
        "from sklearn.naive_bayes import MultinomialNB\n",
        "\n",
        "# SK-learn libraries for evaluation.\n",
        "from sklearn.metrics import confusion_matrix\n",
        "from sklearn import metrics\n",
        "from sklearn.metrics import classification_report\n",
        "\n",
        "# SK-learn library for importing the newsgroup data.\n",
        "from sklearn.datasets import fetch_20newsgroups\n",
        "\n",
        "# SK-learn libraries for feature extraction from text.\n",
        "from sklearn.feature_extraction.text import *\n",
        "\n",
        "import nltk"
      ],
      "execution_count": 1,
      "outputs": []
    },
    {
      "cell_type": "markdown",
      "metadata": {
        "id": "orEWeRJaTyhO"
      },
      "source": [
        "Load the data, stripping out metadata so that only textual features will be used, and restricting documents to 4 specific topics. By default, newsgroups data is split into training and test sets, but here the test set gets further split into development and test sets.  (If you remove the categories argument from the fetch function calls, you'd get documents from all 20 topics.)"
      ]
    },
    {
      "cell_type": "code",
      "metadata": {
        "id": "5b9J-D5DTyhP",
        "colab": {
          "base_uri": "https://localhost:8080/"
        },
        "outputId": "16f3b234-175e-450a-db88-edba4cdc13f2"
      },
      "source": [
        "categories = ['alt.atheism', 'talk.religion.misc', 'comp.graphics', 'sci.space']\n",
        "newsgroups_train = fetch_20newsgroups(subset='train',\n",
        "                                      remove=('headers', 'footers', 'quotes'),\n",
        "                                      categories=categories)\n",
        "newsgroups_test  = fetch_20newsgroups(subset='test',\n",
        "                                      remove=('headers', 'footers', 'quotes'),\n",
        "                                      categories=categories)\n",
        "\n",
        "num_test = int(len(newsgroups_test.target) / 2)\n",
        "test_data, test_labels   = newsgroups_test.data[num_test:], newsgroups_test.target[num_test:]\n",
        "dev_data, dev_labels     = newsgroups_test.data[:num_test], newsgroups_test.target[:num_test]\n",
        "train_data, train_labels = newsgroups_train.data, newsgroups_train.target\n",
        "\n",
        "print('training label shape:', train_labels.shape)\n",
        "print('dev label shape:',      dev_labels.shape)\n",
        "print('test label shape:',     test_labels.shape)\n",
        "print('labels names:',         newsgroups_train.target_names)"
      ],
      "execution_count": 2,
      "outputs": [
        {
          "output_type": "stream",
          "name": "stdout",
          "text": [
            "training label shape: (2034,)\n",
            "dev label shape: (676,)\n",
            "test label shape: (677,)\n",
            "labels names: ['alt.atheism', 'comp.graphics', 'sci.space', 'talk.religion.misc']\n"
          ]
        }
      ]
    },
    {
      "cell_type": "markdown",
      "metadata": {
        "id": "zOS6IyT0TyhR"
      },
      "source": [
        "### Question 1: Examining your data\n",
        "---\n",
        "\n",
        " 1. For each of the first 5 training examples, print the text of the message along with the label (checkout newsgroups_train.target_names)."
      ]
    },
    {
      "cell_type": "code",
      "metadata": {
        "id": "LFFUipfaTyhS",
        "colab": {
          "base_uri": "https://localhost:8080/"
        },
        "outputId": "211a2800-2a38-4fbb-a580-b0b409a5f244"
      },
      "source": [
        "def Q1(num_examples=5):\n",
        "    ### STUDENT START ###\n",
        "    for i in range(num_examples):\n",
        "      print(\"Text: \")\n",
        "      print(train_data[i] + \"\\n\")\n",
        "      print(\"Label: \" + newsgroups_train.target_names[train_labels[i]])\n",
        "      print(\"-----------------------------------------------------------------\")\n",
        "    ### STUDENT END ###\n",
        "\n",
        "Q1(5)"
      ],
      "execution_count": 3,
      "outputs": [
        {
          "output_type": "stream",
          "name": "stdout",
          "text": [
            "Text: \n",
            "Hi,\n",
            "\n",
            "I've noticed that if you only save a model (with all your mapping planes\n",
            "positioned carefully) to a .3DS file that when you reload it after restarting\n",
            "3DS, they are given a default position and orientation.  But if you save\n",
            "to a .PRJ file their positions/orientation are preserved.  Does anyone\n",
            "know why this information is not stored in the .3DS file?  Nothing is\n",
            "explicitly said in the manual about saving texture rules in the .PRJ file. \n",
            "I'd like to be able to read the texture rule information, does anyone have \n",
            "the format for the .PRJ file?\n",
            "\n",
            "Is the .CEL file format available from somewhere?\n",
            "\n",
            "Rych\n",
            "\n",
            "Label: comp.graphics\n",
            "-----------------------------------------------------------------\n",
            "Text: \n",
            "\n",
            "\n",
            "Seems to be, barring evidence to the contrary, that Koresh was simply\n",
            "another deranged fanatic who thought it neccessary to take a whole bunch of\n",
            "folks with him, children and all, to satisfy his delusional mania. Jim\n",
            "Jones, circa 1993.\n",
            "\n",
            "\n",
            "Nope - fruitcakes like Koresh have been demonstrating such evil corruption\n",
            "for centuries.\n",
            "\n",
            "Label: talk.religion.misc\n",
            "-----------------------------------------------------------------\n",
            "Text: \n",
            "\n",
            " >In article <1993Apr19.020359.26996@sq.sq.com>, msb@sq.sq.com (Mark Brader) \n",
            "\n",
            "MB>                                                             So the\n",
            "MB> 1970 figure seems unlikely to actually be anything but a perijove.\n",
            "\n",
            "JG>Sorry, _perijoves_...I'm not used to talking this language.\n",
            "\n",
            "Couldn't we just say periapsis or apoapsis?\n",
            "\n",
            " \n",
            "\n",
            "Label: sci.space\n",
            "-----------------------------------------------------------------\n",
            "Text: \n",
            "I have a request for those who would like to see Charley Wingate\n",
            "respond to the \"Charley Challenges\" (and judging from my e-mail, there\n",
            "appear to be quite a few of you.)  \n",
            "\n",
            "It is clear that Mr. Wingate intends to continue to post tangential or\n",
            "unrelated articles while ingoring the Challenges themselves.  Between\n",
            "the last two re-postings of the Challenges, I noted perhaps a dozen or\n",
            "more posts by Mr. Wingate, none of which answered a single Challenge.  \n",
            "\n",
            "It seems unmistakable to me that Mr. Wingate hopes that the questions\n",
            "will just go away, and he is doing his level best to change the\n",
            "subject.  Given that this seems a rather common net.theist tactic, I\n",
            "would like to suggest that we impress upon him our desire for answers,\n",
            "in the following manner:\n",
            "\n",
            "1. Ignore any future articles by Mr. Wingate that do not address the\n",
            "Challenges, until he answers them or explictly announces that he\n",
            "refuses to do so.\n",
            "\n",
            "--or--\n",
            "\n",
            "2. If you must respond to one of his articles, include within it\n",
            "something similar to the following:\n",
            "\n",
            "    \"Please answer the questions posed to you in the Charley Challenges.\"\n",
            "\n",
            "Really, I'm not looking to humiliate anyone here, I just want some\n",
            "honest answers.  You wouldn't think that honesty would be too much to\n",
            "ask from a devout Christian, would you?  \n",
            "\n",
            "Nevermind, that was a rhetorical question.\n",
            "\n",
            "Label: alt.atheism\n",
            "-----------------------------------------------------------------\n",
            "Text: \n",
            "AW&ST  had a brief blurb on a Manned Lunar Exploration confernce\n",
            "May 7th  at Crystal City Virginia, under the auspices of AIAA.\n",
            "\n",
            "Does anyone know more about this?  How much, to attend????\n",
            "\n",
            "Anyone want to go?\n",
            "\n",
            "Label: sci.space\n",
            "-----------------------------------------------------------------\n"
          ]
        }
      ]
    },
    {
      "cell_type": "markdown",
      "metadata": {
        "id": "r53zpu-mTyhU"
      },
      "source": [
        "### Question 2: Text representation\n",
        "---\n",
        "\n",
        "1. Transform the training data into a matrix of **word** unigram feature vectors.\n",
        "  1. What is the size of the vocabulary? \n",
        "  1. What is the average number of non-zero features per example?  \n",
        "  1. What is the fraction of the non-zero entries in the matrix?  \n",
        "  1. What are the 0th and last feature strings (in alphabetical order)?\n",
        "  - _Use `CountVectorization` and its `.fit_transform` method.  Use `.nnz` and `.shape` attributes, and `.get_feature_names` method._\n",
        "1. Now transform the training data into a matrix of **word** unigram feature vectors restricting to the vocabulary with these 4 words: [\"atheism\", \"graphics\", \"space\", \"religion\"].  Confirm the size of the vocabulary. \n",
        "  1. What is the average number of non-zero features per example?\n",
        "  - _Use `CountVectorization(vocabulary=...)` and its `.transform` method._\n",
        "1. Now transform the training data into a matrix of **character** bigram and trigram feature vectors.  \n",
        "  1. What is the size of the vocabulary?\n",
        "  - _Use `CountVectorization(analyzer=..., ngram_range=...)` and its `.fit_transform` method._\n",
        "1. Now transform the training data into a matrix of **word** unigram feature vectors and prune words that appear in fewer than 10 documents.  \n",
        "  1. What is the size of the vocabulary?<br/>\n",
        "  - _Use `CountVectorization(min_df=...)` and its `.fit_transform` method._\n",
        "1. Now again transform the training data into a matrix of **word** unigram feature vectors. \n",
        " 1. What is the fraction of words in the development vocabulary that is missing from the training vocabulary?\n",
        " - _Hint: Build vocabularies for both train and dev and look at the size of the difference._\n",
        "\n",
        "Notes:\n",
        "* `.fit_transform` makes 2 passes through the data: first it computes the vocabulary (\"fit\"), second it converts the raw text into feature vectors using the vocabulary (\"transform\").\n",
        "* `.fit_transform` and `.transform` return sparse matrix objects.  See about them at http://docs.scipy.org/doc/scipy-0.14.0/reference/generated/scipy.sparse.csr_matrix.html. "
      ]
    },
    {
      "cell_type": "code",
      "metadata": {
        "id": "_xkWZwBVTyhV",
        "colab": {
          "base_uri": "https://localhost:8080/"
        },
        "outputId": "73a6a6b7-8b99-4635-f43e-99a36800a974"
      },
      "source": [
        "def Q2():\n",
        "    ### STUDENT START ###\n",
        "    print(\"1. \")\n",
        "    cv = CountVectorizer(train_data)\n",
        "    count_vector=cv.fit_transform(train_data)\n",
        "    print(\"Vocabulary size is: \" + str(count_vector.shape[1]))\n",
        "    nonzero_features = round(count_vector.nnz/count_vector.shape[0], 5)\n",
        "    print(\"Average number of non zero features is: \" + str(nonzero_features))\n",
        "    nonzero_frac = count_vector.nnz/(count_vector.shape[0] * count_vector.shape[1])\n",
        "    print(\"Fraction of nonzero elements in the matrix is: \" + str(round(nonzero_frac, 5)))\n",
        "    print(\"First feature string: \" + cv.get_feature_names()[0])\n",
        "    print(\"Last feature string: \" + cv.get_feature_names()[-1])\n",
        "\n",
        "    print(\"-----------------------------------------------------------------------\")\n",
        "    print(\"2. \")\n",
        "    cv2 = CountVectorizer(vocabulary =  [\"atheism\", \"graphics\", \"space\", \"religion\"])\n",
        "    count_vector2=cv2.fit_transform(train_data)\n",
        "    print(\"Vocabulary size is: \" + str(len(cv2.vocabulary)))\n",
        "    nonzero_features2 = round(count_vector2.nnz/count_vector2.shape[0], 5)\n",
        "    print(\"Average number of non zero features is: \" + str(nonzero_features2))\n",
        "    print(\"-----------------------------------------------------------------------\")\n",
        "    print(\"3. \")\n",
        "    cv3 = CountVectorizer(ngram_range=(2,3), analyzer = 'char')\n",
        "    count_vector3=cv3.fit(train_data)\n",
        "    print(\"Vocabulary size is: \" + str(len(count_vector3.vocabulary_)))\n",
        "\n",
        "    print(\"-----------------------------------------------------------------------\")\n",
        "    print(\"4. \")\n",
        "    cv4 = CountVectorizer(min_df = 10)\n",
        "    count_vector4=cv4.fit(train_data)\n",
        "    print(\"Vocabulary size is: \" + str(len(count_vector4.vocabulary_)))\n",
        "    print(\"-----------------------------------------------------------------------\")\n",
        "    print(\"5. \")\n",
        "    cv5 = CountVectorizer()\n",
        "    count_vector5 = cv5.fit_transform(dev_data)\n",
        "    cv6 = CountVectorizer()\n",
        "    count_vector6 = cv6.fit_transform(train_data + dev_data)\n",
        "    fraction_dev = (count_vector6.shape[1] -count_vector.shape[1])/count_vector5.shape[1]\n",
        "    print(\"Fraction in dev: \" + str(round(fraction_dev, 5)))\n",
        "    print(\"-----------------------------------------------------------------------\")\n",
        "\n",
        "# 1. What is the fraction of words in the development vocabulary that is missing from the training vocabulary?\n",
        "Q2()"
      ],
      "execution_count": 4,
      "outputs": [
        {
          "output_type": "stream",
          "name": "stdout",
          "text": [
            "1. \n",
            "Vocabulary size is: 26879\n",
            "Average number of non zero features is: 96.706\n",
            "Fraction of nonzero elements in the matrix is: 0.0036\n",
            "First feature string: 00\n",
            "Last feature string: zyxel\n",
            "-----------------------------------------------------------------------\n",
            "2. \n",
            "Vocabulary size is: 4\n",
            "Average number of non zero features is: 0.26844\n",
            "-----------------------------------------------------------------------\n",
            "3. \n",
            "Vocabulary size is: 35478\n",
            "-----------------------------------------------------------------------\n",
            "4. \n",
            "Vocabulary size is: 3064\n",
            "-----------------------------------------------------------------------\n",
            "5. \n",
            "Fraction in dev: 0.24788\n",
            "-----------------------------------------------------------------------\n"
          ]
        }
      ]
    },
    {
      "cell_type": "markdown",
      "metadata": {
        "id": "dIaSTL9OTyhX"
      },
      "source": [
        "### Question 3: Initial model evaluation\n",
        "---\n",
        "\n",
        "1. Transform the training and development data to matrices of word unigram feature vectors.\n",
        "1. Produce several k-Nearest Neigbors models by varying k, including one with k set to optimize f1 score.  For each model, show the k value and f1 score. \n",
        "1. Produce several Naive Bayes models by varying smoothing (alpha), including one with alpha set approximately to optimize f1 score.  For each model, show the alpha value and f1 score.\n",
        "1. Produce several Logistic Regression models by varying L2 regularization strength (C), including one with C set approximately to optimize f1 score.  For each model, show the C value, f1 score, and sum of squared weights for each topic.\n",
        "1. Why doesn't k-Nearest Neighbors work well for this problem?\n",
        "1. Why doesn't Logistic Regression work as well as Naive Bayes does?\n",
        "1. What is the relationship between logistic regression's sum of squared weights vs. C value?\n",
        "\n",
        "Notes:\n",
        "* Train on the transformed training data.\n",
        "* Evaluate on the transformed development data.\n",
        "* You can use `CountVectorizer` and its `.fit_transform` and `.transform` methods to transform data.\n",
        "* You can use `KNeighborsClassifier(...)` to produce a k-Nearest Neighbors model.\n",
        "* You can use `MultinomialNB(...)` to produce a Naive Bayes model.\n",
        "* You can use `LogisticRegression(C=..., solver=\"liblinear\", multi_class=\"auto\")` to produce a Logistic Regression model.\n",
        "* You can use `LogisticRegression`'s `.coef_` method to get weights for each topic.\n",
        "* You can use `metrics.f1_score(..., average=\"weighted\")` to compute f1 score."
      ]
    },
    {
      "cell_type": "code",
      "metadata": {
        "scrolled": false,
        "id": "g9JvhGBRTyhX",
        "colab": {
          "base_uri": "https://localhost:8080/"
        },
        "outputId": "cb4e2890-d9cc-4d2f-9d41-7e8658907265"
      },
      "source": [
        "def Q3():\n",
        "    ### STUDENT START ###\n",
        "    print(\"1. \")\n",
        "    cv = CountVectorizer()\n",
        "    count_vector_train = cv.fit_transform(train_data)\n",
        "    count_vector_dev = cv.transform(dev_data)\n",
        "\n",
        "    print(\"-----------------------------------------------------------------------\")\n",
        "    print(\"2. \")\n",
        "    print(\"K Nearest Neighbor Models\")\n",
        "    for k in range(1, 10):\n",
        "      knn = KNeighborsClassifier(n_neighbors=k)\n",
        "      knn.fit(count_vector_train, train_labels)    \n",
        "      dev_pred = knn.predict(count_vector_dev)\n",
        "      score = metrics.f1_score(dev_labels, dev_pred, average = \"weighted\")\n",
        "      print(\"k = \" + str(k) + \" ---> \" + str(score))\n",
        "\n",
        "    print(\"-----------------------------------------------------------------------\")\n",
        "    print(\"3. \")\n",
        "    print(\"Naive Bayes Models\")\n",
        "    for a in [0.001, 0.01, 0.1, 0.25, 0.5, 0.75, 1, 2, 5]:\n",
        "      mnb = MultinomialNB(alpha = a)\n",
        "      mnb.fit(count_vector_train, train_labels)    \n",
        "      dev_pred = mnb.predict(count_vector_dev)\n",
        "      mnb_score = metrics.f1_score(dev_labels, dev_pred, average = \"weighted\")\n",
        "      print(\"alpha = \" + str(a) + \" ---> \" + str(mnb_score))\n",
        "\n",
        "    print(\"-----------------------------------------------------------------------\")\n",
        "    print(\"4. \")\n",
        "    print(\"Logistic Regression Models\")\n",
        "    for c in [0.00001, 0.00005, 0.0001, 0.0005, 0.001, 0.005, 0.01, 0.05, 0.1, 0.25, 0.5, 0.75, 1, 2, 5]:\n",
        "      lr = LogisticRegression(C=c, solver=\"liblinear\", multi_class=\"auto\")\n",
        "      lr.fit(count_vector_train, train_labels)    \n",
        "      dev_pred = lr.predict(count_vector_dev)\n",
        "      lr_ssw = round(sum(sum((lr.coef_)**2)), 5)\n",
        "      lr_score = metrics.f1_score(dev_labels, dev_pred, average = \"weighted\")\n",
        "      print(\"C = \" + str(c) + \" and sum of squared weights = \" + str(lr_ssw) + \" ---> \" + str(lr_score))\n",
        "\n",
        "    print(\"-----------------------------------------------------------------------\")\n",
        "    print(\"5. \")\n",
        "    print(\"K Nearest Neighbors does not work well because the data is multidimensional leading to curse of dimensionality, and the sparsity in distances makes training by distance difficult.\")\n",
        "    print(\"-----------------------------------------------------------------------\")\n",
        "    print(\"6. \")\n",
        "    print(\"The logistic regression does not work as well as Naive Bayes because Naive Bayes converges quicker than Logistic Regression does due to it being a generative model.\")\n",
        "    print(\"-----------------------------------------------------------------------\")\n",
        "    print(\"7. \")\n",
        "    print(\"The C parameter is the inverse of the lambda value which multiplies the sum of squared weights, used together as a regularization term in L2 regularization.\")\n",
        "\n",
        "    ### STUDENT END ###\n",
        "\n",
        "Q3()"
      ],
      "execution_count": 5,
      "outputs": [
        {
          "output_type": "stream",
          "name": "stdout",
          "text": [
            "1. \n",
            "-----------------------------------------------------------------------\n",
            "2. \n",
            "K Nearest Neighbor Models\n",
            "k = 1 ---> 0.3805030018531525\n",
            "k = 2 ---> 0.38054212404441684\n",
            "k = 3 ---> 0.4084150225437623\n",
            "k = 4 ---> 0.4031227993847515\n",
            "k = 5 ---> 0.4287607236218357\n",
            "k = 6 ---> 0.4466650540867595\n",
            "k = 7 ---> 0.45047910006117586\n",
            "k = 8 ---> 0.44698358117081094\n",
            "k = 9 ---> 0.4365666176198027\n",
            "-----------------------------------------------------------------------\n",
            "3. \n",
            "Naive Bayes Models\n",
            "alpha = 0.001 ---> 0.7702518836155706\n",
            "alpha = 0.01 ---> 0.7751663218544357\n",
            "alpha = 0.1 ---> 0.7903052385098862\n",
            "alpha = 0.25 ---> 0.7890335791591067\n",
            "alpha = 0.5 ---> 0.7862862961995258\n",
            "alpha = 0.75 ---> 0.7845011169448908\n",
            "alpha = 1 ---> 0.7777320236017224\n",
            "alpha = 2 ---> 0.7689966472342658\n",
            "alpha = 5 ---> 0.7234892095047329\n",
            "-----------------------------------------------------------------------\n",
            "4. \n",
            "Logistic Regression Models\n",
            "C = 1e-05 and sum of squared weights = 0.00165 ---> 0.36519316740206303\n",
            "C = 5e-05 and sum of squared weights = 0.01503 ---> 0.5083553379716566\n",
            "C = 0.0001 and sum of squared weights = 0.03818 ---> 0.5416003218838589\n",
            "C = 0.0005 and sum of squared weights = 0.30602 ---> 0.5897287625940829\n",
            "C = 0.001 and sum of squared weights = 0.73396 ---> 0.6193046812006844\n",
            "C = 0.005 and sum of squared weights = 4.93639 ---> 0.646694968300764\n",
            "C = 0.01 and sum of squared weights = 10.59374 ---> 0.6646997417582748\n",
            "C = 0.05 and sum of squared weights = 54.20762 ---> 0.6866730854341511\n",
            "C = 0.1 and sum of squared weights = 102.27853 ---> 0.6966243542418833\n",
            "C = 0.25 and sum of squared weights = 220.8649 ---> 0.7080577265005641\n",
            "C = 0.5 and sum of squared weights = 373.78333 ---> 0.7084739776490449\n",
            "C = 0.75 and sum of squared weights = 496.80462 ---> 0.6925847764462731\n",
            "C = 1 and sum of squared weights = 601.70346 ---> 0.6944172871853819\n",
            "C = 2 and sum of squared weights = 922.02527 ---> 0.6924826561168351\n",
            "C = 5 and sum of squared weights = 1513.65418 ---> 0.6910114442307702\n",
            "-----------------------------------------------------------------------\n",
            "5. \n",
            "K Nearest Neighbors does not work well because the data is multidimensional leading to curse of dimensionality, and the sparsity in distances makes training by distance difficult.\n",
            "-----------------------------------------------------------------------\n",
            "6. \n",
            "The logistic regression does not work as well as Naive Bayes because Naive Bayes converges quicker than Logistic Regression does due to it being a generative model.\n",
            "-----------------------------------------------------------------------\n",
            "7. \n",
            "The C parameter is the inverse of the lambda value which multiplies the sum of squared weights, used together as a regularization term in L2 regularization.\n"
          ]
        }
      ]
    },
    {
      "cell_type": "markdown",
      "metadata": {
        "id": "1K9kU5AETyhY"
      },
      "source": [
        "ANSWER: "
      ]
    },
    {
      "cell_type": "markdown",
      "metadata": {
        "id": "b46HltEPTyhY"
      },
      "source": [
        "### Question 4: Feature exploration\n",
        "---\n",
        "\n",
        "1. Transform the data to a matrix of word **bigram** feature vectors.  Produce a Logistic Regression model.\n",
        "1. For each topic, find the 5 features with the largest weights (not absolute value). If there are no overlaps, you can expect 20 features in total.\n",
        "1. Show a 20 row (features) x 4 column (topics) table of the weights. So, for each of the features (words) found, we show their weight for all topics.\n",
        "1. Do you see any surprising features in this table?\n",
        "\n",
        "Notes:\n",
        "* Train on the transformed training data.\n",
        "* You can use `CountVectorizer` and its `.fit_transform` method to transform data.\n",
        "* You can use `LogisticRegression(C=0.5, solver=\"liblinear\", multi_class=\"auto\")` to produce a Logistic Regression model.\n",
        "* You can use `LogisticRegression`'s `.coef_` method to get weights for each topic.\n",
        "* You can use `np.argsort` to get indices sorted by element value. \n"
      ]
    },
    {
      "cell_type": "code",
      "metadata": {
        "id": "DerfvONsTyha",
        "colab": {
          "base_uri": "https://localhost:8080/"
        },
        "outputId": "0bd653f1-c9ef-452e-f2c5-c799fbb195ec"
      },
      "source": [
        "def Q4():\n",
        "    ### STUDENT START ###\n",
        "\n",
        "    #Transform data\n",
        "    cv = CountVectorizer(ngram_range=(2,2))\n",
        "    count_vector=cv.fit_transform(train_data)\n",
        "    #Run model\n",
        "    lr = LogisticRegression(C = 0.5, solver=\"liblinear\", multi_class=\"auto\")\n",
        "    lr.fit(count_vector, train_labels) \n",
        "    #Get nonzero indices\n",
        "    indices_matrix = [list(np.argsort(lr.coef_[i])[-5:]) for i in range(4)]\n",
        "    largest_features = indices_matrix.copy()\n",
        "    for i in range(len(indices_matrix)):\n",
        "      for j in range(len(indices_matrix[0])):\n",
        "        largest_features[i][j] = lr.coef_[i][indices_matrix[i][j]]\n",
        "    \n",
        "    #Show largest nonzero weights.\n",
        "    print(np.matrix(largest_features))\n",
        "\n",
        "\n",
        "    ### STUDENT END ###\n",
        "\n",
        "Q4()"
      ],
      "execution_count": 6,
      "outputs": [
        {
          "output_type": "stream",
          "name": "stdout",
          "text": [
            "[[0.4469533  0.47274037 0.48205037 0.55571957 0.60554873]\n",
            " [0.75499784 0.75865782 0.80120757 0.83256727 1.10837469]\n",
            " [0.52536153 0.59052447 0.62108658 0.83108538 0.87111365]\n",
            " [0.42375465 0.49187498 0.50430473 0.53480766 0.55199032]]\n"
          ]
        }
      ]
    },
    {
      "cell_type": "markdown",
      "metadata": {
        "id": "odPhAx_yTyhb"
      },
      "source": [
        "ANSWER: "
      ]
    },
    {
      "cell_type": "markdown",
      "metadata": {
        "id": "UNC3BCjUTyhb"
      },
      "source": [
        "### Question 5: Pre-processing for text\n",
        "---\n",
        "\n",
        "To improve generalization, it is common to try preprocessing text in various ways before splitting into words. For example, you could try transforming strings to lower case, replacing sequences of numbers with single tokens, removing various non-letter characters, and shortening long words.\n",
        "\n",
        "1. Produce a Logistic Regression model (with no preprocessing of text). **Note that you may need to override the \"default\" preprocessing with an identity function**. Evaluate and show its f1 score and size of the dictionary.\n",
        "1. Produce an improved Logistic Regression model by preprocessing the text. Evaluate and show its f1 score and size of the vocabulary.  Aim for an improvement in f1 score of 0.02. **Note: this is actually very hard**.\n",
        "1. How much did the improved model reduce the vocabulary size?\n",
        "\n",
        "Notes:\n",
        "* Things you can try: ** ???: Anything else we can suggest** \n",
        " - Look at default pre-processing done.\n",
        " - Removing stop words.\n",
        " - Experiment with different ways of getting rid of apostrophe's such as replacing them with spaces or with empty strings.\n",
        "  - Lower casing.\n",
        "  - Including both lowercase and original case versions of a word.\n",
        "  - nltk functions such as stemming.\n",
        "* Train on the \"transformed\" training data, the data after you applied pre-processing.\n",
        "* Evaluate on the transformed development data. Note that you never want to \"learn\" anything from the dev data.\n",
        "* You can use `CountVectorizer(preprocessor=...)` to preprocess strings with your own custom-defined function.\n",
        "* `CountVectorizer` default is to preprocess strings to lower case.\n",
        "* You can use `LogisticRegression(C=0.5, solver=\"liblinear\", multi_class=\"auto\")` to produce a logistic regression model.\n",
        "* You can use `metrics.f1_score(..., average=\"weighted\")` to compute f1 score.\n",
        "* If you're not already familiar with regular expressions for manipulating strings, see https://docs.python.org/2/library/re.html, and re.sub() in particular.\n",
        "* The order you apply pre-processing may produce different results.\n"
      ]
    },
    {
      "cell_type": "code",
      "metadata": {
        "id": "3lDatbSPTyhb",
        "colab": {
          "base_uri": "https://localhost:8080/"
        },
        "outputId": "fd5c1306-4bdf-4522-ecad-6282d4522b5a"
      },
      "source": [
        "def process(s):\n",
        "  \"\"\"Takes in a line of text and returns a processed version of the same text.\"\"\"\n",
        "  s = re.sub(\"(\\w{7})\\w+\", \"\\\\1\", s) #shortening long words\n",
        "  s = re.sub('@', ' link ', s) #links\n",
        "  s = re.sub('[^A-Za-z0-9]', ' ', s) #non alpha numeric characters      \n",
        "  return s\n",
        "      \n",
        "      \n",
        "def Q5():\n",
        "    ### STUDENT START ###\n",
        "\n",
        "    print(\"----Before Preprocessing----\")\n",
        "    #Transform data\n",
        "    cv = CountVectorizer(preprocessor= None)\n",
        "    count_vector=cv.fit_transform(train_data)\n",
        "    count_vector_dev=cv.transform(dev_data)\n",
        "    #Run model\n",
        "    lr = LogisticRegression(C = 0.5, solver=\"liblinear\", multi_class=\"auto\")\n",
        "    lr.fit(count_vector, train_labels) \n",
        "    #Evaluate\n",
        "    dev_pred = lr.predict(count_vector_dev)\n",
        "    lr_score = metrics.f1_score(dev_labels, dev_pred, average = \"weighted\")\n",
        "    print(\"Vocabulary size is: \" + str(count_vector.shape[1]))\n",
        "    print(\"F1 for no preprocessing: \" + str(lr_score))\n",
        "\n",
        "    print(\"----After Preprocessing----\")\n",
        "    #Process data\n",
        "    processed_train_data = [process(i) for i in train_data]\n",
        "    processed_dev_data = [process(i) for i in dev_data]\n",
        "    #Transform data\n",
        "    cv2 = CountVectorizer(stop_words= {'english'})\n",
        "    count_vector2=cv2.fit_transform(processed_train_data)\n",
        "    count_vector_dev2=cv2.transform(processed_dev_data)\n",
        "    #Run model\n",
        "    lr2 = LogisticRegression(C = 0.5, solver=\"liblinear\", multi_class=\"auto\")\n",
        "    lr2.fit(count_vector2, train_labels) \n",
        "    #Evaluate model\n",
        "    dev_pred2 = lr2.predict(count_vector_dev2)\n",
        "    lr_score2 = metrics.f1_score(dev_labels, dev_pred2, average = \"weighted\")\n",
        "    print(\"Vocabulary size is: \" + str(count_vector2.shape[1]))\n",
        "    print(\"F1 with preprocessing: \" + str(lr_score2))\n",
        "    print(\"\\n\")\n",
        "    print(\"An F1 increase of 0.012 leads to a decrease of vocabulary size by 4702 words.\")\n",
        "\n",
        "\n",
        "\n",
        "\n",
        "    ### STUDENT END ###\n",
        "\n",
        "Q5()"
      ],
      "execution_count": 7,
      "outputs": [
        {
          "output_type": "stream",
          "name": "stdout",
          "text": [
            "----Before Preprocessing----\n",
            "Vocabulary size is: 26879\n",
            "F1 for no preprocessing: 0.7084739776490449\n",
            "----After Preprocessing----\n",
            "Vocabulary size is: 22177\n",
            "F1 with preprocessing: 0.7199982175102518\n",
            "\n",
            "\n",
            "An F1 increase of 0.012 leads to a decrease of vocabulary size by 4702 words.\n"
          ]
        }
      ]
    },
    {
      "cell_type": "markdown",
      "metadata": {
        "id": "tLRc7vDBTyhb"
      },
      "source": [
        "### Question 6: L1 and L2 regularization\n",
        "---\n",
        "\n",
        "The idea of regularization is to avoid learning very large weights (which are likely to fit the training data, but not generalize well) by adding a penalty to the total size of the learned weights. Logistic regression seeks the set of weights that minimizes errors in the training data AND has a small total size. The default L2 regularization computes this size as the sum of the squared weights (as in Part 3 above). L1 regularization computes this size as the sum of the absolute values of the weights. Whereas L2 regularization makes all the weights relatively small, **L1 regularization drives many of the weights to 0, effectively removing unimportant features**. For this reason, we can use it as a way to do \"feature selection\".\n",
        "\n",
        "1. For several L1 regularization strengths ...\n",
        "  1. Produce a Logistic Regression model using the **L1** regularization strength.  Reduce the vocabulary to only those features that have at least one non-zero weight among the four categories.\n",
        "  1. Produce a new Logistic Regression model using the reduced vocabulary . For this new model, use an **L2** regularization strength of 0.5.  \n",
        "  1. Evaluate and show the L1 regularization strength, vocabulary size, and f1 score associated with the new model.\n",
        "1. Show a plot of f1 score vs. log vocabulary size.  Each point corresponds to a specific L1 regularization strength used to reduce the vocabulary.\n",
        "1. How does performance of the models based on reduced vocabularies compare to that of a model based on the full vocabulary?\n",
        "\n",
        "Notes:\n",
        "* No need to apply pre-processing from question 5.\n",
        "* Train on the transformed (i.e. CountVectorizer) training data.\n",
        "* Evaluate on the transformed development data (using the CountVectorizer instance you trained on the training data).\n",
        "* You can use `LogisticRegression(..., penalty=\"l1\")` to produce a logistic regression model using L1 regularization.\n",
        "* You can use `LogisticRegression(..., penalty=\"l2\")` to produce a logistic regression model using L2 regularization.\n",
        "* You can use `LogisticRegression(..., tol=0.015)` to produce a logistic regression model using relaxed gradient descent convergence criteria.  The gradient descent code that trains the logistic regression model sometimes has trouble converging with extreme settings of the C parameter. Relax the convergence criteria by setting tol=.015 (the default is .0001).\n",
        "* (solver=\"liblinear\" might be needed for it not to crash)"
      ]
    },
    {
      "cell_type": "code",
      "metadata": {
        "id": "7dva_PsvTyhb",
        "colab": {
          "base_uri": "https://localhost:8080/",
          "height": 1000
        },
        "outputId": "7eaee5d8-dda2-44c6-cc3c-a2c3f3355230"
      },
      "source": [
        "def Q6():\n",
        "    # Keep this random seed here to make comparison easier.\n",
        "    np.random.seed(0)\n",
        "\n",
        "    ### STUDENT START ###\n",
        "    vocab = []\n",
        "    f1s = []\n",
        "    vocab2 = []\n",
        "    f1s2 = []\n",
        "    #Run through different values of C.\n",
        "    for c in [0.00001, 0.00005, 0.0001, 0.0005, 0.001, 0.005, 0.01, 0.05, 0.1, 0.25, 0.5, 0.75, 2, 5]:\n",
        "      print(\"C value = \" + str(c))\n",
        "      #Transform data\n",
        "      cv = CountVectorizer()\n",
        "      count_vector=cv.fit_transform(train_data)\n",
        "      count_vector_dev=cv.transform(dev_data)\n",
        "      vocabulary = np.asarray(cv.get_feature_names())\n",
        "      #Run L1 regression.\n",
        "      lr = LogisticRegression(penalty = 'l1', C = c, solver=\"liblinear\", multi_class=\"auto\", tol=0.015)\n",
        "      lr.fit(count_vector, train_labels) \n",
        "      #Evaluate L1 regression\n",
        "      dev_pred = lr.predict(count_vector_dev)\n",
        "      lr_score = metrics.f1_score(dev_labels, dev_pred, average = \"weighted\")\n",
        "      print(\"Vocabulary size is: \" + str(count_vector.shape[1]))\n",
        "      print(\"F1 value: \" + str(lr_score))\n",
        "      #Assign values for chart.\n",
        "      vocab += [count_vector.shape[1]]\n",
        "      f1s += [lr_score]\n",
        "\n",
        "      #Get nonzero values and transform data.\n",
        "      nonzero = np.nonzero(lr.coef_[1])\n",
        "      cv.vocabulary = np.unique(vocabulary[nonzero[0]])\n",
        "      new_train = cv.transform(train_data)\n",
        "      new_dev = cv.transform(dev_data)\n",
        "      #Run new regression.\n",
        "      lr2 = LogisticRegression(penalty = 'l2', C = 0.5, solver=\"liblinear\", multi_class=\"auto\", tol=0.015)\n",
        "      lr2.fit(new_train, train_labels) \n",
        "      #Evaluate L2 regression.\n",
        "      dev_pred2 = lr2.predict(new_dev)\n",
        "      lr_score2 = metrics.f1_score(dev_labels, dev_pred2, average = \"weighted\")\n",
        "      print(\"New vocabulary size is: \" + str(len(cv.vocabulary)))\n",
        "      print(\"F1 value for L2: \" + str(lr_score2))\n",
        "      print(\"------------------------------------------------------------\")\n",
        "      #Assign values for chart\n",
        "      vocab2 += [len(cv.vocabulary)]\n",
        "      f1s2 += [lr_score2]\n",
        "    \n",
        "    plt.plot(vocab2, f1s2, 'o')\n",
        "    plt.title('F1 Score vs Vocabulary Size for Reduced Vocabulary')\n",
        "    plt.xlabel('Vocabulary Size')\n",
        "    plt.ylabel('F1 Score')\n",
        "    plt.ylim((0.5, 0.8))\n",
        "    plt.show()\n",
        "\n",
        "    plt.plot(vocab, f1s, 'o')\n",
        "    plt.title('F1 Score vs Vocabulary Size for Full Vocabulary')\n",
        "    plt.ylim((0.0, 1.0))\n",
        "    plt.xlabel('Vocabulary Size')\n",
        "    plt.ylabel('F1 Score')\n",
        "    plt.show()\n",
        "\n",
        "    ### STUDENT END ###\n",
        "\n",
        "Q6()"
      ],
      "execution_count": 8,
      "outputs": [
        {
          "output_type": "stream",
          "name": "stdout",
          "text": [
            "C value = 1e-05\n",
            "Vocabulary size is: 26879\n",
            "F1 value: 0.09577566858276636\n",
            "New vocabulary size is: 0\n",
            "F1 value for L2: 0.7022781839022015\n",
            "------------------------------------------------------------\n",
            "C value = 5e-05\n",
            "Vocabulary size is: 26879\n",
            "F1 value: 0.09577566858276636\n",
            "New vocabulary size is: 0\n",
            "F1 value for L2: 0.7022781839022015\n",
            "------------------------------------------------------------\n",
            "C value = 0.0001\n",
            "Vocabulary size is: 26879\n",
            "F1 value: 0.09577566858276636\n",
            "New vocabulary size is: 0\n",
            "F1 value for L2: 0.7022781839022015\n",
            "------------------------------------------------------------\n",
            "C value = 0.0005\n",
            "Vocabulary size is: 26879\n",
            "F1 value: 0.18419161809850068\n",
            "New vocabulary size is: 1\n",
            "F1 value for L2: 0.7022781839022015\n",
            "------------------------------------------------------------\n",
            "C value = 0.001\n",
            "Vocabulary size is: 26879\n",
            "F1 value: 0.24492835290439324\n",
            "New vocabulary size is: 1\n",
            "F1 value for L2: 0.7022781839022015\n",
            "------------------------------------------------------------\n",
            "C value = 0.005\n",
            "Vocabulary size is: 26879\n",
            "F1 value: 0.39160868640234797\n",
            "New vocabulary size is: 7\n",
            "F1 value for L2: 0.7022781839022015\n",
            "------------------------------------------------------------\n",
            "C value = 0.01\n",
            "Vocabulary size is: 26879\n",
            "F1 value: 0.4344408864206772\n",
            "New vocabulary size is: 10\n",
            "F1 value for L2: 0.7022781839022015\n",
            "------------------------------------------------------------\n",
            "C value = 0.05\n",
            "Vocabulary size is: 26879\n",
            "F1 value: 0.5785611781217161\n",
            "New vocabulary size is: 55\n",
            "F1 value for L2: 0.7022781839022015\n",
            "------------------------------------------------------------\n",
            "C value = 0.1\n",
            "Vocabulary size is: 26879\n",
            "F1 value: 0.6469392685217549\n",
            "New vocabulary size is: 84\n",
            "F1 value for L2: 0.7022781839022015\n",
            "------------------------------------------------------------\n",
            "C value = 0.25\n",
            "Vocabulary size is: 26879\n",
            "F1 value: 0.6991374492370049\n",
            "New vocabulary size is: 161\n",
            "F1 value for L2: 0.7022781839022015\n",
            "------------------------------------------------------------\n",
            "C value = 0.5\n",
            "Vocabulary size is: 26879\n",
            "F1 value: 0.6958684437677354\n",
            "New vocabulary size is: 266\n",
            "F1 value for L2: 0.7022781839022015\n",
            "------------------------------------------------------------\n",
            "C value = 0.75\n",
            "Vocabulary size is: 26879\n",
            "F1 value: 0.6944223995321539\n",
            "New vocabulary size is: 384\n",
            "F1 value for L2: 0.7022781839022015\n",
            "------------------------------------------------------------\n",
            "C value = 2\n",
            "Vocabulary size is: 26879\n",
            "F1 value: 0.6818245006832491\n",
            "New vocabulary size is: 783\n",
            "F1 value for L2: 0.7022781839022015\n",
            "------------------------------------------------------------\n",
            "C value = 5\n",
            "Vocabulary size is: 26879\n",
            "F1 value: 0.6824090841285411\n",
            "New vocabulary size is: 807\n",
            "F1 value for L2: 0.7022781839022015\n",
            "------------------------------------------------------------\n"
          ]
        },
        {
          "output_type": "display_data",
          "data": {
            "image/png": "[encoded data removed]",
            "text/plain": [
              "<Figure size 432x288 with 1 Axes>"
            ]
          },
          "metadata": {
            "needs_background": "light"
          }
        },
        {
          "output_type": "display_data",
          "data": {
            "image/png": "[encoded data removed]",
            "text/plain": [
              "<Figure size 432x288 with 1 Axes>"
            ]
          },
          "metadata": {
            "needs_background": "light"
          }
        }
      ]
    },
    {
      "cell_type": "markdown",
      "metadata": {
        "id": "XbrmPrLaTyhc"
      },
      "source": [
        "ANSWER: For the same C values, the full size vocabulary does not perform better than the reduced vocabulary in terms of F1 scores. As vocabulary size increases in the first chart above, the F1 score stays relatively constant."
      ]
    },
    {
      "cell_type": "markdown",
      "metadata": {
        "id": "AQJQimS8Tyhd"
      },
      "source": [
        "### Question 7: TfIdf\n",
        "---\n",
        "As you may recall [tf-idf](https://en.wikipedia.org/wiki/Tf%E2%80%93idf) stands for *term frequency inverse document frequency* and is a way to assign a weight to each word or token signifying their importance for a document in a corpus (a collection of documents).\n",
        "\n",
        "Produce a Logistic Regression model based on data represented in tf-idf form, with L2 regularization strength of 100.  Evaluate and show the f1 score.  How is `TfidfVectorizer` different than `CountVectorizer`?\n",
        "\n",
        "1. How is `TfidfVectorizer` different than `CountVectorizer`?\n",
        "1. Show the 3 documents with highest R ratio, where ...\n",
        "  - $R\\,ratio = maximum\\,predicted\\,probability \\div predicted\\,probability\\,of\\,correct\\,label$\n",
        "1. Explain what the R ratio describes.\n",
        "1. What kinds of mistakes is the model making? Suggest a way to address one particular issue that you see.\n",
        "\n",
        "Note:\n",
        "* Train on the transformed training data.\n",
        "* Evaluate on the transformed development data.\n",
        "* You can use `TfidfVectorizer` and its `.fit_transform` method to transform data to tf-idf form.\n",
        "* You can use `LogisticRegression(C=100, solver=\"liblinear\", multi_class=\"auto\")` to produce a logistic regression model.\n",
        "* You can use `LogisticRegression`'s `.predict_proba` method to access predicted probabilities."
      ]
    },
    {
      "cell_type": "code",
      "metadata": {
        "id": "Llsrh11LTyhd",
        "colab": {
          "base_uri": "https://localhost:8080/"
        },
        "outputId": "26de6939-a925-47d0-d095-fdc69776deeb"
      },
      "source": [
        "def Q7():\n",
        "    ### STUDENT START ###\n",
        "    #Transform data\n",
        "    cv = TfidfVectorizer()\n",
        "    count_vector = cv.fit_transform(train_data)\n",
        "    count_vector_dev = cv.transform(dev_data)\n",
        "    \n",
        "    #Fit model\n",
        "    lr = LogisticRegression(penalty='l2', C=100)\n",
        "    lr.fit(count_vector, train_labels)\n",
        "    dev_pred = lr.predict(count_vector_dev)\n",
        "    pred_vals = lr.predict_proba(count_vector_dev)\n",
        "\n",
        "    lr_score = metrics.f1_score(dev_labels, dev_pred, average = \"weighted\")\n",
        "    print(\"F1 value for L2: \" + str(lr_score))\n",
        "        \n",
        "    pred = []\n",
        "    label = []\n",
        "    txt = []\n",
        "    R = []\n",
        "    for i, j in enumerate(pred_vals):\n",
        "        pred.append(newsgroups_train.target_names[np.argmax(j)])\n",
        "        label.append(newsgroups_test.target_names[dev_labels[i]])\n",
        "        txt.append(dev_data[i])\n",
        "        R.append(np.max(j)/j[dev_labels[i]])\n",
        "    \n",
        "    for i in np.argpartition(R, -3)[-3:]: \n",
        "        print(\"------------------------------------------------\")\n",
        "        print(\"R: \" + str(R[i]))\n",
        "        print(\"Predicted: \"+ str(pred[i]))\n",
        "        print(\"Actual: \" + str(label[i]))\n",
        "        print(\"Text: \\n\" + str(txt[i]))\n",
        "    ### STUDENT END ###\n",
        "\n",
        "Q7()"
      ],
      "execution_count": 9,
      "outputs": [
        {
          "output_type": "stream",
          "name": "stdout",
          "text": [
            "F1 value for L2: 0.7557303806953157\n",
            "------------------------------------------------\n",
            "R: 232.30677650717345\n",
            "Predicted: alt.atheism\n",
            "Actual: talk.religion.misc\n",
            "Text: \n",
            "Why is the NT tossed out as info on Jesus.  I realize it is normally tossed\n",
            "out because it contains miracles, but what are the other reasons?\n",
            "\n",
            "MAC\n",
            "--\n",
            "****************************************************************\n",
            "                                                    Michael A. Cobb\n",
            " \"...and I won't raise taxes on the middle     University of Illinois\n",
            "    class to pay for my programs.\"                 Champaign-Urbana\n",
            "          -Bill Clinton 3rd Debate             cobb@alexia.lis.uiuc.edu\n",
            "------------------------------------------------\n",
            "R: 470.96814861115604\n",
            "Predicted: comp.graphics\n",
            "Actual: talk.religion.misc\n",
            "Text: \n",
            "I am pleased to announce that a *revised version* of _The Easy-to-Read Book\n",
            "of Mormon_ (former title: _Mormon's Book_) by Lynn Matthews Anderson is now\n",
            "available through anonymous ftp (see information below). In addition to the\n",
            "change in title, the revised ETR BOM has been shortened by several pages\n",
            "(eliminating many extraneous \"that's\" and \"of's\"), and many (minor) errors\n",
            "have been corrected. This release includes a simplified Joseph Smith Story,\n",
            "testimonies of the three and eight witnesses, and a \"Words-to-Know\"\n",
            "glossary.\n",
            "\n",
            "As with the previous announcement, readers are reminded that this is a\n",
            "not-for-profit endeavor. This is a copyrighted work, but people are welcome\n",
            "to make *verbatim* copies for personal use. People can recuperate the\n",
            "actual costs of printing (paper, copy center charges), but may not charge\n",
            "anything for their time in making copies, or in any way realize a profit\n",
            "from the use of this book. See the permissions notice in the book itself\n",
            "for the precise terms.\n",
            "\n",
            "Negotiations are currently underway with a Mormon publisher vis-a-vis the\n",
            "printing and distribution of bound books. (Sorry, I'm out of the wire-bound\n",
            "\"first editions.\") I will make another announcement about the availability\n",
            "of printed copies once everything has been worked out.\n",
            "\n",
            "FTP information: connect via anonymous ftp to carnot.itc.cmu.edu, then \"cd\n",
            "pub\" (you won't see anything at all until you do).\n",
            "\n",
            "\"The Easy-to-Read Book of Mormon\" is currently available in postscript and\n",
            "RTF (rich text format). (ASCII, LaTeX, and other versions can be made\n",
            "available; contact dba@andrew.cmu.edu for details.) You should be able to\n",
            "print the postscript file on any postscript printer (such as an Apple\n",
            "Laserwriter); let dba know if you have any difficulties. (The postscript in\n",
            "the last release had problems on some printers; this time it should work\n",
            "better.) RTF is a standard document interchange format that can be read in\n",
            "by a number of word processors, including Microsoft Word for both the\n",
            "Macintosh and Windows. If you don't have a postscript printer, you may be\n",
            "able to use the RTF file to print out a copy of the book.\n",
            "\n",
            "-r--r--r--  1 dba                   1984742 Apr 27 13:12 etrbom.ps\n",
            "-r--r--r--  1 dba                   1209071 Apr 27 13:13 etrbom.rtf\n",
            "\n",
            "For more information about how this project came about, please refer to my\n",
            "article in the current issue of _Sunstone_, entitled \"Delighting in\n",
            "Plainness: Issues Surrounding a Simple Modern English Book of Mormon.\"\n",
            "\n",
            "Send all inquiries and comments to:\n",
            "\n",
            "    Lynn Matthews Anderson\n",
            "    5806 Hampton Street\n",
            "    Pittsburgh, PA 15206\n",
            "------------------------------------------------\n",
            "R: 656.8335174648441\n",
            "Predicted: comp.graphics\n",
            "Actual: talk.religion.misc\n",
            "Text: \n",
            "Can anyone provide me a ftp site where I can obtain a online version\n",
            "of the Book of Mormon. Please email the internet address if possible.\n"
          ]
        },
        {
          "output_type": "stream",
          "name": "stderr",
          "text": [
            "/usr/local/lib/python3.7/dist-packages/sklearn/linear_model/_logistic.py:940: ConvergenceWarning: lbfgs failed to converge (status=1):\n",
            "STOP: TOTAL NO. of ITERATIONS REACHED LIMIT.\n",
            "\n",
            "Increase the number of iterations (max_iter) or scale the data as shown in:\n",
            "    https://scikit-learn.org/stable/modules/preprocessing.html\n",
            "Please also refer to the documentation for alternative solver options:\n",
            "    https://scikit-learn.org/stable/modules/linear_model.html#logistic-regression\n",
            "  extra_warning_msg=_LOGISTIC_SOLVER_CONVERGENCE_MSG)\n"
          ]
        }
      ]
    },
    {
      "cell_type": "markdown",
      "metadata": {
        "id": "w7SnJ7mTTyhe"
      },
      "source": [
        "ANSWER: \n",
        "- While CountVectorizer uses word frequencies across documents, the TFIDF Vectorizer uses the frequency in each document as well. \n",
        "- Here, the R ratio describes by how many times the model predicts incorrect classifications, with a ratio of 1 being a correct classification. The larger the R value, the worse the mistake because the model was more confident about it despite it being wrong. \n",
        "- Here, the mistakes being made are all for texts that are actually part of the religion topic. This is not surprising because each of the posts also contain religion-related language such as \"Jesus\" and \"Book of Mormon\". It is even possible that some annotators might disagree with the current labels and agree with the classifier. Because of this, my suggestion to address this is to include more than one topic label for posts like these that are related to multiple topics."
      ]
    },
    {
      "cell_type": "markdown",
      "metadata": {
        "id": "Smtoa6tHTyhf"
      },
      "source": [
        "### Question 8 EXTRA CREDIT:\n",
        "---\n",
        "Produce a Logistic Regression model to implement your suggestion from Part 7."
      ]
    },
    {
      "cell_type": "code",
      "metadata": {
        "id": "uCLc-do1Tyhf"
      },
      "source": [
        ""
      ],
      "execution_count": 9,
      "outputs": []
    }
  ]
}