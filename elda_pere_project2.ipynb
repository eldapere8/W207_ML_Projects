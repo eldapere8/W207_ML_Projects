{
  "nbformat": 4,
  "nbformat_minor": 0,
  "metadata": {
    "kernelspec": {
      "display_name": "Python 3",
      "language": "python",
      "name": "python3"
    },
    "language_info": {
      "codemirror_mode": {
        "name": "ipython",
        "version": 3
      },
      "file_extension": ".py",
      "mimetype": "text/x-python",
      "name": "python",
      "nbconvert_exporter": "python",
      "pygments_lexer": "ipython3",
      "version": "3.7.4"
    },
    "toc": {
      "base_numbering": 1,
      "nav_menu": {},
      "number_sections": false,
      "sideBar": true,
      "skip_h1_title": true,
      "title_cell": "Table of Contents",
      "title_sidebar": "Contents",
      "toc_cell": false,
      "toc_position": {},
      "toc_section_display": true,
      "toc_window_display": false
    },
    "colab": {
      "name": "elda_pere_project2.ipynb",
      "provenance": [],
      "collapsed_sections": [],
      "include_colab_link": true
    }
  },
  "cells": [
    {
      "cell_type": "markdown",
      "metadata": {
        "id": "view-in-github",
        "colab_type": "text"
      },
      "source": [
        "<a href=\"https://colab.research.google.com/github/eldapere8/W207_ML_Projects/blob/main/elda_pere_project2.ipynb\" target=\"_parent\"><img src=\"https://colab.research.google.com/assets/colab-badge.svg\" alt=\"Open In Colab\"/></a>"
      ]
    },
    {
      "cell_type": "markdown",
      "metadata": {
        "id": "iNALzZOKTzOS"
      },
      "source": [
        "# Project 2: Digit Classification Naive Bayes\n",
        "\n",
        "**Solution**"
      ]
    },
    {
      "cell_type": "markdown",
      "metadata": {
        "id": "EBRkdIUUTzOV"
      },
      "source": [
        "# Intro\n",
        "---\n",
        "In this project, you'll continue working on your own image recognition system for classifying digits. Read through the code and the instructions carefully and add your own code where indicated. Each problem can be addressed succinctly with the included packages -- please don't add any more. \n",
        "As always, you're welcome to work on the project in groups and discuss ideas over Slack, but <b> please prepare your own write-up (with your own code). </b>\n",
        "\n",
        "\n",
        "## Grading\n",
        "---\n",
        " - Make sure to answer every part in every question.\n",
        " - There are 6 questions, each equally weighted and an additional bonus question.\n",
        " - The extra credit question will be graded based on your attempts at feature engineering and resulting improved accuracy.\n",
        " - Read carefully what is asked including the notes.\n",
        " - Additional points may be deducted if:\n",
        "   - the code is not clean, well commented,\n",
        "  -  if the functions or answers are too long.\n",
        "\n",
        "## Requirements:\n",
        "---\n",
        "1. Comment your code.\n",
        "1. All graphs should have titles, label for each axis, and if needed a legend. It should be understandable on its own.\n",
        "1. All code must run on colab.research.google.com\n",
        "1. You should not import any additional libraries.\n",
        "1. Try and minimize the use of the global namespace (meaning keep things in functions).\n",
        "\n",
        "## Additional Reading and notes\n",
        "---\n",
        "If you're interested, check out these links related to digit recognition:\n",
        "\n",
        "* Yann Lecun's MNIST benchmarks: http://yann.lecun.com/exdb/mnist/\n",
        "* Stanford Streetview research and data: http://ufldl.stanford.edu/housenumbers/\n",
        "\n",
        "Finally, if you'd like to get started with Tensorflow, you can read through this tutorial: https://www.tensorflow.org/tutorials/keras/basic_classification. It uses a dataset called \"fashion_mnist\", which is identical in structure to the original digit mnist, but uses images of clothing rather than images of digits. The number of training examples and number of labels is the same. In fact, you can simply replace the code that loads \"fashion_mnist\" with \"mnist\" and everything should work fine."
      ]
    },
    {
      "cell_type": "code",
      "metadata": {
        "id": "r8u7GmsDTzOX"
      },
      "source": [
        "# This tells matplotlib not to try opening a new window for each plot.\n",
        "%matplotlib inline\n",
        "\n",
        "# Import a bunch of libraries.\n",
        "import time\n",
        "import numpy as np\n",
        "import pandas as pd\n",
        "import matplotlib.pyplot as plt\n",
        "from matplotlib.ticker import MultipleLocator\n",
        "from sklearn.pipeline import Pipeline\n",
        "from sklearn.datasets import fetch_openml\n",
        "from sklearn.neighbors import KNeighborsClassifier\n",
        "from sklearn.metrics import confusion_matrix\n",
        "from sklearn.linear_model import LinearRegression\n",
        "from sklearn.naive_bayes import BernoulliNB\n",
        "from sklearn.naive_bayes import MultinomialNB\n",
        "from sklearn.naive_bayes import GaussianNB\n",
        "from sklearn.model_selection import GridSearchCV\n",
        "from sklearn.metrics import classification_report\n",
        "\n",
        "# Set the randomizer seed so results are the same each time.\n",
        "np.random.seed(0)"
      ],
      "execution_count": 1,
      "outputs": []
    },
    {
      "cell_type": "code",
      "metadata": {
        "id": "bWOWoq_dTzOY",
        "colab": {
          "base_uri": "https://localhost:8080/",
          "height": 35
        },
        "outputId": "e459f771-e576-497d-e246-1d680544d612"
      },
      "source": [
        "import sklearn\n",
        "sklearn.__version__"
      ],
      "execution_count": 2,
      "outputs": [
        {
          "output_type": "execute_result",
          "data": {
            "application/vnd.google.colaboratory.intrinsic+json": {
              "type": "string"
            },
            "text/plain": [
              "'0.22.2.post1'"
            ]
          },
          "metadata": {},
          "execution_count": 2
        }
      ]
    },
    {
      "cell_type": "markdown",
      "metadata": {
        "id": "J1-CAjA9TzOa"
      },
      "source": [
        "Load the data. Notice that the data gets partitioned into training, development, and test sets. Also, a small subset of the training data called mini_train_data and mini_train_labels gets defined, which you should use in all the experiments below, unless otherwise noted."
      ]
    },
    {
      "cell_type": "code",
      "metadata": {
        "id": "f9kPmCW0TzOb",
        "colab": {
          "base_uri": "https://localhost:8080/"
        },
        "outputId": "f635255f-813e-424c-98e8-c4f12fe49fd2"
      },
      "source": [
        "# Load the digit data from https://www.openml.org/d/554 or from default local location '~/scikit_learn_data/...'\n",
        "X, Y = fetch_openml(name='mnist_784', return_X_y=True, cache=False)\n",
        "\n",
        "# Rescale grayscale values to [0,1].\n",
        "X = X / 255.0\n",
        "\n",
        "# Shuffle the input: create a random permutation of the integers between 0 and the number of data points and apply this\n",
        "# permutation to X and Y.\n",
        "# NOTE: Each time you run this cell, you'll re-shuffle the data, resulting in a different ordering.\n",
        "shuffle = np.random.permutation(np.arange(X.shape[0]))\n",
        "X, Y = X[shuffle], Y[shuffle]\n",
        "\n",
        "print('data shape: ', X.shape)\n",
        "print('label shape:', Y.shape)\n",
        "\n",
        "# Set some variables to hold test, dev, and training data.\n",
        "test_data, test_labels = X[61000:], Y[61000:]\n",
        "dev_data, dev_labels = X[60000:61000], Y[60000:61000]\n",
        "train_data, train_labels = X[:60000], Y[:60000]\n",
        "mini_train_data, mini_train_labels = X[:1000], Y[:1000]"
      ],
      "execution_count": 3,
      "outputs": [
        {
          "output_type": "stream",
          "name": "stdout",
          "text": [
            "data shape:  (70000, 784)\n",
            "label shape: (70000,)\n"
          ]
        }
      ]
    },
    {
      "cell_type": "markdown",
      "metadata": {
        "id": "gr40-NstTzOl"
      },
      "source": [
        "### Question 1: Applying a smoothing using numpy.\n",
        "---\n",
        "\n",
        "A common image processing technique is to smooth an image by **blurring**. The idea is that the value of a particular pixel is estimated as the weighted combination of the original value and the values around it. Typically, the blurring is Gaussian, i.e., the weight of a pixel's influence is determined by a Gaussian function over the distance to the relevant pixel.\n",
        "\n",
        "1. Implement a simplified Gaussian blur filter by just using the 8 neighboring pixels like this: the smoothed value of a pixel is a weighted combination of the original value and the 8 neighboring values.\n",
        "1. Choose some weights as a starting point. Produce and evaluate four 1-Nearest Neighbor models by applying your blur filter in these ways:\n",
        "  1. Do not use the filter\n",
        "  1. Filter the training data but not the dev data\n",
        "  1. Filter the dev data but not the training data\n",
        "  1. Filter both training data and dev data\n",
        "1. Show the accuracies of the four models evaluated as described. What do you see? Can you explain why this is?\n",
        "1. Experiment with weights that makes one model's accuracy at least 0.9.\n",
        "\n",
        "Notes:\n",
        "* Train on the (filtered) mini train set.\n",
        "* Evaluate performance on the (filtered) dev set.\n",
        "* A good trick to simplify your code is to use numpy's pad function to add 0s around your original array so you don't have to deal with \"edge cases\".\n",
        "* In addition, you can use numpy to multiply and sum slices of two arrays.\n",
        "* [This notebook](https://colab.research.google.com/drive/1eJXTQLtREXQjQIsLOA9uCrBl6B049-pO) might help shows some example numpy code.\n",
        "* In general, [numpy operations will be much faster than for loops](https://colab.research.google.com/drive/1KJI4JtuIqVdyZHTTe_mAlKYA5XdLFp3_). \n",
        "* There are other Guassian blur filters available, for example in `scipy.ndimage.filters`. You are welcome to experiment with those, but in this question, please implement your own."
      ]
    },
    {
      "cell_type": "code",
      "metadata": {
        "id": "ebHGUU0eTzOl",
        "colab": {
          "base_uri": "https://localhost:8080/"
        },
        "outputId": "1aad0bc5-5236-4011-e238-8e4f34338d42"
      },
      "source": [
        "def Q1():\n",
        "    \n",
        "### STUDENT START ###\n",
        "  def filter(mini_train_data):\n",
        "    #Create list of 28x28 pixels for each number\n",
        "    list_of_28x28 = []\n",
        "    for i in np.arange(len(mini_train_data)):\n",
        "      list_of_28x28 += [np.reshape(mini_train_data[i], (28, 28))]\n",
        "\n",
        "    #Instantiate copy of list of smoothed pixels.\n",
        "    smoothed_data = list_of_28x28.copy()\n",
        "\n",
        "    #Loop over each digit and then over each element in the 28x28 array.\n",
        "    for k in range(len(list_of_28x28)):\n",
        "      #Pad the arrays to simplify code.\n",
        "      list_of_28x28[k] = np.pad(list_of_28x28[k], 1, mode='constant')\n",
        "      smoothed_data[k] = np.pad(smoothed_data[k], 1, mode='constant')\n",
        "\n",
        "      for i in range(len(list_of_28x28[1])):\n",
        "        for j in range(len(list_of_28x28[1][1])):\n",
        "          #Limit blurring to the non padded layers.\n",
        "          if i >= 1 and j >= 1 and i < 27 and j < 27:\n",
        "            p1 = list_of_28x28[k][i-1][j-1]\n",
        "            p2 = list_of_28x28[k][i-1][j]\n",
        "            p3 = list_of_28x28[k][i-1][j+1]\n",
        "            p4 = list_of_28x28[k][i][j-1]\n",
        "            p5 = list_of_28x28[k][i][j]\n",
        "            p6 = list_of_28x28[k][i][j+1]\n",
        "            p7 = list_of_28x28[k][i+1][j-1]\n",
        "            p8 = list_of_28x28[k][i+1][j]\n",
        "            p9 = list_of_28x28[k][i+1][j+1]\n",
        "            #Gaussian blur filter with weights 1/n.\n",
        "            blurred_pixel = np.mean([p1, p2, p3, p4, p5, p6, p7, p8, p9])\n",
        "            #Add new pixel to the array\n",
        "            smoothed_data[k][i][j] = blurred_pixel\n",
        "    return smoothed_data\n",
        "\n",
        "  #Create K nearest neighbor models where K = 1.\n",
        "  #Do not use the filter\n",
        "  knn1 = KNeighborsClassifier(n_neighbors=1, p=2, metric='minkowski')\n",
        "  knn1.fit(mini_train_data, mini_train_labels)    \n",
        "  score1 = knn1.score(dev_data, dev_labels)\n",
        "  print(\"Score for no filter with k = \" + str(1) + \": \" + str(score1))\n",
        "\n",
        "  #Filter the training data but not the dev data\n",
        "    #First reshape to original dimensions and get rid of padding.\n",
        "  smoothed_mini_train = filter(mini_train_data)\n",
        "  unpadded2 = np.asarray([smoothed_mini_train[k][1:29, 1:29] for k in range(len(smoothed_mini_train))])\n",
        "  reshaped2 = np.asarray([np.reshape(unpadded2[k], (784)) for k in range(len(smoothed_mini_train))])\n",
        "  knn2 = KNeighborsClassifier(n_neighbors=1, p=2, metric='minkowski')\n",
        "  knn2.fit(reshaped2, mini_train_labels)\n",
        "  score2 = knn2.score(dev_data, dev_labels)\n",
        "  print(\"Score for filtered training data with k = \" + str(1) + \": \" + str(score2)+ \" (Above 0.9)\")\n",
        "\n",
        "  #Filter the dev data but not the training data\n",
        "  smoothed_dev = filter(dev_data)\n",
        "  unpadded3 = np.asarray([smoothed_dev[k][1:29, 1:29] for k in range(len(smoothed_dev))])\n",
        "  reshaped3 = np.asarray([np.reshape(unpadded3[k], (784)) for k in range(len(smoothed_dev))])\n",
        "  knn3 = KNeighborsClassifier(n_neighbors=1, p=2, metric='minkowski')\n",
        "  knn3.fit(mini_train_data, mini_train_labels)\n",
        "  score3 = knn3.score(reshaped3, dev_labels)\n",
        "  print(\"Score for filtered dev data with k = \" + str(1) + \": \" + str(score3))\n",
        "\n",
        "  #Filter both training data and dev data\n",
        "  knn4 = KNeighborsClassifier(n_neighbors=1, p=2, metric='minkowski')\n",
        "  knn4.fit(reshaped2, mini_train_labels)\n",
        "  score4 = knn4.score(reshaped3, dev_labels)\n",
        "  print(\"Score for filtered training and dev data with k = \" + str(1) + \": \" + str(score4) + \" (Above 0.9)\")\n",
        "  print(\"The score is higher for the models where the training data was filtered, regardless of whether the test data was also filtered.\")\n",
        "  print(\"This occurs because the model becomes more generalized when it is trained on blurred data, and reduces overfitting in general.\")\n",
        "\n",
        "\n",
        "\n",
        "### STUDENT END ###\n",
        "\n",
        "Q1()"
      ],
      "execution_count": 4,
      "outputs": [
        {
          "output_type": "stream",
          "name": "stdout",
          "text": [
            "Score for no filter with k = 1: 0.884\n",
            "Score for filtered training data with k = 1: 0.907 (Above 0.9)\n",
            "Score for filtered dev data with k = 1: 0.869\n",
            "Score for filtered training and dev data with k = 1: 0.902 (Above 0.9)\n",
            "The score is higher for the models where the training data was filtered, regardless of whether the test data was also filtered.\n",
            "This occurs because the model becomes more generalized when it is trained on blurred data, and reduces overfitting in general.\n"
          ]
        }
      ]
    },
    {
      "cell_type": "markdown",
      "metadata": {
        "id": "aN3HZPGuTzOn"
      },
      "source": [
        "### Question 2: Modeling your data and experimenting with different Naive Bayes models. \n",
        "---\n",
        "\n",
        "1. Produce two Naive Bayes models and evaluate their performances.  Recall that Naive Bayes estimates P(feature|label), where each label is a categorical, not a real number.\n",
        "  1. For the first model, map pixel values to either 0 or 1, representing white or black - you should pre-process the data or use `BernoulliNB`'s `binarize` parameter to set the white/black separation threshold to 0.1.  Use `BernoulliNB` to produce the model.\n",
        "  1. For the second model, map pixel values to either 0, 1, or 2, representing white, gray, or black - you should pre-process the data, seting the white/gray/black separation thresholds to 0.1 and 0.9.  Here you'll likely need to implement a `trianarize` helper function. Since we are going beyond the binary representation of our features, you should use `MultinomialNB` to produce the model.\n",
        "1. Show the Bernoulli model accuracy and the Multinomial model accuracy.\n",
        "1. Does the multinomial version improve the results? Why or why not?\n",
        "\n",
        "Notes:\n",
        "* Train on the mini train set.\n",
        "* Evaluate performance on the dev set.\n",
        "\n"
      ]
    },
    {
      "cell_type": "code",
      "metadata": {
        "id": "_1edM3ehTzOn",
        "colab": {
          "base_uri": "https://localhost:8080/"
        },
        "outputId": "163201de-e233-417f-b71b-cafaccf152d1"
      },
      "source": [
        "# Solution with binarization by explicit binarize function\n",
        "\n",
        "def Q2():\n",
        "\n",
        "### STUDENT START ###\n",
        "\n",
        "  #Produce BernoulliNB binarized model:\n",
        "  binarized_bernoulli = BernoulliNB(binarize=0.1)\n",
        "  binarized_bernoulli.fit(mini_train_data, mini_train_labels)\n",
        "  score = binarized_bernoulli.score(dev_data, dev_labels)\n",
        "  print(\"Score for binarized BernoulliNB model: \" + str(score))\n",
        "\n",
        "  #Produce MultinomialNB model:\n",
        "  def trianarize(data):\n",
        "    copy = np.copy(data)\n",
        "    for i in range(len(copy)):\n",
        "      for j in range(len(copy[1])):\n",
        "        if copy[i][j] <= 0.1:\n",
        "          copy[i][j] = 0\n",
        "        elif copy[i][j] >= 0.9:\n",
        "          copy[i][j] = 2\n",
        "        else:\n",
        "          copy[i][j] = 1\n",
        "    return copy\n",
        "\n",
        "\n",
        "  multinomial = MultinomialNB()\n",
        "  multinomial.fit(trianarize(mini_train_data), mini_train_labels)\n",
        "  score2 = multinomial.score(trianarize(dev_data), dev_labels)\n",
        "  print(\"Score for Multinomial NB model: \" + str(score2))\n",
        "\n",
        "### STUDENT END ###\n",
        "\n",
        "Q2()"
      ],
      "execution_count": 5,
      "outputs": [
        {
          "output_type": "stream",
          "name": "stdout",
          "text": [
            "Score for binarized BernoulliNB model: 0.814\n",
            "Score for Multinomial NB model: 0.807\n"
          ]
        }
      ]
    },
    {
      "cell_type": "markdown",
      "metadata": {
        "id": "Bbbpzl5ETzOp"
      },
      "source": [
        "ANSWER:  The MultinomialNB version does not improve the results because it takes more features into account which would decrease the value of P(feature|label) (more values less than 1.0 are multiplied, bringing the probability closer to 0). "
      ]
    },
    {
      "cell_type": "markdown",
      "metadata": {
        "id": "ymzuQZwsTzOp"
      },
      "source": [
        "### Question 3: Applying the grid search technique.\n",
        "1. Search across several values of the LaPlace smoothing parameter (alpha) to find its effect on a Bernoulli Naive Bayes model's performance.  Show the accuracy at each alpha value.\n",
        "1. What is the best value for alpha? What is the accuracy when alpha is near 0? Is this what you'd expect?\n",
        "\n",
        "Notes:\n",
        "* Set binarization threshold to 0.\n",
        "* Train on the mini train set.\n",
        "* Evaluate performance by 5-fold cross-validation. \n",
        "* Use `GridSearchCV(..., ..., cv=..., scoring='accuracy', iid=False)` to vary alpha and evaluate performance by cross-validation.\n",
        "* Cross-validation is based on partitions of the training data, so results will be a bit different than if you had used the dev set to evaluate performance.\n",
        "\n"
      ]
    },
    {
      "cell_type": "code",
      "metadata": {
        "id": "1qc1fG0OTzOq",
        "colab": {
          "base_uri": "https://localhost:8080/"
        },
        "outputId": "d5208fcd-05c6-469f-fbdc-12df6b2d7a26"
      },
      "source": [
        "def Q3(alphas):\n",
        "\n",
        "### STUDENT START ###\n",
        "\n",
        "  #fit model\n",
        "  gridsearch_bernoulli = GridSearchCV(BernoulliNB(), alphas, cv=5, scoring='accuracy', iid=False)\n",
        "  gridsearch_bernoulli.fit(mini_train_data, mini_train_labels)\n",
        "\n",
        "  #get scores for each alpha\n",
        "  gridsearch_bernoulli.cv_results_['mean_test_score']\n",
        "  for i in range(len(alphas['alpha'])):\n",
        "    print(\"Score for alpha \" + str(alphas['alpha'][i]) + \": \" + \n",
        "          str(round(gridsearch_bernoulli.cv_results_['mean_test_score'][i], 4)))\n",
        "\n",
        "### STUDENT END ###\n",
        "\n",
        "alphas = {'alpha': [1.0e-10, 0.0001, 0.001, 0.01, 0.1, 0.5, 1.0, 2.0, 10.0]}\n",
        "Q3(alphas)\n"
      ],
      "execution_count": 6,
      "outputs": [
        {
          "output_type": "stream",
          "name": "stdout",
          "text": [
            "Score for alpha 1e-10: 0.814\n",
            "Score for alpha 0.0001: 0.819\n",
            "Score for alpha 0.001: 0.825\n",
            "Score for alpha 0.01: 0.822\n",
            "Score for alpha 0.1: 0.818\n",
            "Score for alpha 0.5: 0.813\n",
            "Score for alpha 1.0: 0.809\n",
            "Score for alpha 2.0: 0.805\n",
            "Score for alpha 10.0: 0.783\n"
          ]
        },
        {
          "output_type": "stream",
          "name": "stderr",
          "text": [
            "/usr/local/lib/python3.7/dist-packages/sklearn/model_selection/_search.py:823: FutureWarning: The parameter 'iid' is deprecated in 0.22 and will be removed in 0.24.\n",
            "  \"removed in 0.24.\", FutureWarning\n"
          ]
        }
      ]
    },
    {
      "cell_type": "markdown",
      "metadata": {
        "id": "6g4fnGFPTzOq"
      },
      "source": [
        "ANSWER: The accuracy increases until alpha hits 0.001 (the best value for alpha) and then begins to decrease for the remaining alphas. I expected smoothing would improve generalization and increase accuracy to a certain point, and then it would decrease accuracy after the model became too generalized. So, this behaviior meets my expectations, although I did not expect the actual threshold value would be as low as 0.001. "
      ]
    },
    {
      "cell_type": "markdown",
      "metadata": {
        "id": "aQ6MaDU6TzOr"
      },
      "source": [
        "### Question 4: Experimenting with Gaussian Naive Bayes\n",
        "---\n",
        "1. Produce a model using Guassian Naive Bayes, which is intended for real-valued features, and evaluate performance. You will notice that it does not work so well. \n",
        "1. Diagnose and explain the problem.\n",
        "1. Apply a simple fix so that the model accuracy is around the same as for a Bernoulli Naive Bayes model. \n",
        "1. Show the model accuracy before your fix and the model accuracy after your fix.  \n",
        "1. Explain your solution.\n",
        "\n",
        "Notes:\n",
        "* Train on the mini train set.\n",
        "* Evaluate performance on the dev set.\n",
        "* Take a look at var_smoothing argument for GaussianNB.\n",
        "* Feel free to  examine theta and sigma to better understand what's happening. In general though, **it is not a good idea to mess with internal variables of the model**. These are stored in the model's `theta_` and `sigma_` attributes."
      ]
    },
    {
      "cell_type": "code",
      "metadata": {
        "id": "XqW86YbKTzOr",
        "colab": {
          "base_uri": "https://localhost:8080/"
        },
        "outputId": "f23d2a6e-5306-4f9d-9d51-2e30cacdd2fa"
      },
      "source": [
        "def Q4():\n",
        "\n",
        "### STUDENT END ###\n",
        "\n",
        "  #Gaussian model before fix.\n",
        "  gaussian_nb = GaussianNB()\n",
        "  gaussian_nb.fit(mini_train_data, mini_train_labels)\n",
        "  score = gaussian_nb.score(dev_data, dev_labels)\n",
        "  print(\"Score for GaussianNB model: \" + str(score))\n",
        "\n",
        "  #Gaussian model after fix.\n",
        "  gaussian_nb2 = GaussianNB(var_smoothing= 0.06)\n",
        "  gaussian_nb2.fit(mini_train_data, mini_train_labels)\n",
        "  score2 = gaussian_nb2.score(dev_data, dev_labels)\n",
        "  print(\"Score for GaussianNB model with increased var_smoothing: \" + str(score2))\n",
        "\n",
        "### STUDENT END ###\n",
        "\n",
        "Q4()"
      ],
      "execution_count": 7,
      "outputs": [
        {
          "output_type": "stream",
          "name": "stdout",
          "text": [
            "Score for GaussianNB model: 0.593\n",
            "Score for GaussianNB model with increased var_smoothing: 0.821\n"
          ]
        }
      ]
    },
    {
      "cell_type": "markdown",
      "metadata": {
        "id": "wE5eQXsPTzOs"
      },
      "source": [
        "ANSWER: Initially, the model performs poorly with an accuracy of about 60% due to failure in meeting the assumption that the variables follow a normal distribution. The solution was to increase the variance of the features using Gaussian noise, which made the distribution closer to normal and led to a higher accuracy. "
      ]
    },
    {
      "cell_type": "markdown",
      "metadata": {
        "id": "AXx4SGNeTzOs"
      },
      "source": [
        "### Question 5: Naive Bayes as a generative model\n",
        "---\n",
        "Because Naive Bayes produces a generative model, you can use it to generate digit images.\n",
        "\n",
        "1. Produce a Bernoulli Naive Bayes model and then use it to generate a 10x10 grid with 10 example images of each digit. Each pixel output will be either 0 or 1: randomly generating a number and then comparing it to the estimated probability of the pixel being either 0 or 1.  Show the grid.\n",
        "1. How do the generated digit images compare to the training digit images?\n",
        "\n",
        "Notes:\n",
        "* You can use np.random.rand() to generate random numbers from a uniform distribution.\n",
        "* The estimated probability of each pixel being 0 or 1 is stored in the model's `feature_log_prob_` attribute. You can use `np.exp()` to convert a log probability back to a probability.\n",
        "\n"
      ]
    },
    {
      "cell_type": "code",
      "metadata": {
        "scrolled": false,
        "id": "WDCNbv7ETzOt",
        "colab": {
          "base_uri": "https://localhost:8080/",
          "height": 1000
        },
        "outputId": "3a13b007-4e32-4251-83b7-52741f9d90d0"
      },
      "source": [
        "def Q5(num_examples):\n",
        "\n",
        "### STUDENT START ###\n",
        "  #Loop through process for num_examples.\n",
        "  for j in np.arange(num_examples):\n",
        "    #Generate random array of values in the Uniform (0,1) distribution.\n",
        "    random_array = np.random.rand(10, 784)\n",
        "\n",
        "    #Fit a model using BernoulliNB.\n",
        "    binarized_bernoulli = BernoulliNB()\n",
        "    binarized_bernoulli.fit(mini_train_data, mini_train_labels)\n",
        "\n",
        "    #Determine the probability that a pixel is black based on the model's feature probabilities.\n",
        "    generated_digits = []\n",
        "    for digit in range(10):\n",
        "      condition= np.exp(binarized_bernoulli.feature_log_prob_)[digit] > random_array[digit]\n",
        "      generated_digits += [condition.astype(int)]\n",
        "\n",
        "    generated_digits = np.asarray(generated_digits)\n",
        "\n",
        "    #Create subplots\n",
        "    plt.rcParams['figure.figsize']=[20,15]\n",
        "    fig, ax = plt.subplots(1,10)\n",
        "\n",
        "    #Loop through each number and each sample.\n",
        "    for i in np.arange(10):\n",
        "      ax[i].imshow(np.reshape(generated_digits[i, :], (28, 28)), interpolation=None, cmap='Greys')\n",
        "\n",
        "### STUDENT END ###\n",
        "\n",
        "Q5(10)"
      ],
      "execution_count": 8,
      "outputs": [
        {
          "output_type": "display_data",
          "data": {
            "image/png": "[encoded data removed]",
            "text/plain": [
              "<Figure size 1440x1080 with 10 Axes>"
            ]
          },
          "metadata": {
            "needs_background": "light"
          }
        },
        {
          "output_type": "display_data",
          "data": {
            "image/png": "[encoded data removed]",
            "text/plain": [
              "<Figure size 1440x1080 with 10 Axes>"
            ]
          },
          "metadata": {
            "needs_background": "light"
          }
        },
        {
          "output_type": "display_data",
          "data": {
            "image/png": "[encoded data removed]",
            "text/plain": [
              "<Figure size 1440x1080 with 10 Axes>"
            ]
          },
          "metadata": {
            "needs_background": "light"
          }
        },
        {
          "output_type": "display_data",
          "data": {
            "image/png": "[encoded data removed]",
            "text/plain": [
              "<Figure size 1440x1080 with 10 Axes>"
            ]
          },
          "metadata": {
            "needs_background": "light"
          }
        },
        {
          "output_type": "display_data",
          "data": {
            "image/png": "[encoded data removed]",
            "text/plain": [
              "<Figure size 1440x1080 with 10 Axes>"
            ]
          },
          "metadata": {
            "needs_background": "light"
          }
        },
        {
          "output_type": "display_data",
          "data": {
            "image/png": "[encoded data removed]",
            "text/plain": [
              "<Figure size 1440x1080 with 10 Axes>"
            ]
          },
          "metadata": {
            "needs_background": "light"
          }
        },
        {
          "output_type": "display_data",
          "data": {
            "image/png": "[encoded data removed]",
            "text/plain": [
              "<Figure size 1440x1080 with 10 Axes>"
            ]
          },
          "metadata": {
            "needs_background": "light"
          }
        },
        {
          "output_type": "display_data",
          "data": {
            "image/png": "[encoded data removed]",
            "text/plain": [
              "<Figure size 1440x1080 with 10 Axes>"
            ]
          },
          "metadata": {
            "needs_background": "light"
          }
        },
        {
          "output_type": "display_data",
          "data": {
            "image/png": "[encoded data removed]",
            "text/plain": [
              "<Figure size 1440x1080 with 10 Axes>"
            ]
          },
          "metadata": {
            "needs_background": "light"
          }
        },
        {
          "output_type": "display_data",
          "data": {
            "image/png": "[encoded data removed]",
            "text/plain": [
              "<Figure size 1440x1080 with 10 Axes>"
            ]
          },
          "metadata": {
            "needs_background": "light"
          }
        }
      ]
    },
    {
      "cell_type": "markdown",
      "metadata": {
        "id": "2ENXdzngTzOu"
      },
      "source": [
        "ANSWER: The generated images are harder to make out from the training images because for each pixel it considers an aggregate value of the training images. Since not all images are identical, there is variation in where the pixels are considered black or white and the digits are not perfectly visible. Regardless, they are distinguishable which I think is a feat in itself."
      ]
    },
    {
      "cell_type": "markdown",
      "metadata": {
        "id": "CRkUEi50TzOu"
      },
      "source": [
        "### Question 6: Model Calibraiton\n",
        "---\n",
        "Recall that:\n",
        " * a **strongly calibrated** classifier is rougly 90% accurate when it says it is 90% accurate. The model's estimated posterior probability of the predicted class is indeed 0.9. \n",
        " * A **weakly calibrated** classifier is more accurate when it \"says\" it is more accurate. The actual accuracy is higher when the model's estimated posterior probability is higher.\n",
        " * A **poorly calibrated** classifier has no positive correlation between the model's estimate posterior probability and the actual accuracy.\n",
        "\n",
        "1. Produce a Bernoulli Naive Bayes model.  \n",
        "1. Evaluate performance: \n",
        "  1. Partition the dev set into several buckets based on the estimated posterior probabilities of the predicted classes (predict_proba)\n",
        "    - Think of it as a bin in a histogram, where each bin groups a range of estimated posterior probabilities of the predicted classes (predict_proba).\n",
        "    - Then estimate the actual accuracy the classifier achieved for each bucket. \n",
        "    - So, for each prediction:\n",
        "       - Find the bucket whose range includes the estimated posterior probability, \n",
        "       - and update \"correct\" and \"total\" counters accordingly. \n",
        "       - Show the accuracy for each bucket.\n",
        "1. How would you characterize the calibration for this Bernoulli Naive Bayes model according to the definitions above?\n",
        "\n",
        "Notes:\n",
        "* Set LaPlace smoothing (alpha) to the optimal value (from part 8).\n",
        "* Set binarization threshold to 0.\n",
        "* Train on the mini train set.\n",
        "* Evaluate perfromance on the dev set.\n",
        "\n"
      ]
    },
    {
      "cell_type": "code",
      "metadata": {
        "id": "3Gz3NDY9TzOu",
        "colab": {
          "base_uri": "https://localhost:8080/"
        },
        "outputId": "1ed87e62-1dfc-44a6-cd6a-b7ff96b9cbb2"
      },
      "source": [
        "def Q6(buckets, correct, total):\n",
        "    \n",
        "### STUDENT START ###\n",
        "  #Produce BernoulliNB model:\n",
        "  bernoulli = BernoulliNB(alpha = 0.001, binarize=0)\n",
        "  bernoulli.fit(mini_train_data, mini_train_labels)\n",
        "  true_label = dev_labels\n",
        "  pred_label = bernoulli.predict(dev_data)\n",
        "  pred_proba = bernoulli.predict_proba(dev_data)\n",
        "\n",
        "  #Add values to correct and total by comparing predict_proba to each bucket.\n",
        "  for row in range(len(dev_data)):\n",
        "    for i in range(len(buckets)):\n",
        "      if max(pred_proba[row]) <= buckets[i]:\n",
        "        total[i] += 1\n",
        "        if pred_label[row] == true_label[row]:\n",
        "          correct[i] += 1\n",
        "\n",
        "  #Compute accuracy.\n",
        "  accuracy = [m/n if n> 0 else 'NA' for m, n in zip(correct, total)]\n",
        "  print(accuracy)\n",
        "\n",
        "### STUDENT END ###\n",
        "\n",
        "buckets = [0.5, 0.9, 0.999, 0.99999, 0.9999999, 0.999999999, 0.99999999999, 0.9999999999999, 1.0]\n",
        "correct = [0 for i in buckets]\n",
        "total = [0 for i in buckets]\n",
        "\n",
        "Q6(buckets, correct, total)"
      ],
      "execution_count": 10,
      "outputs": [
        {
          "output_type": "stream",
          "name": "stdout",
          "text": [
            "['NA', 0.3548387096774194, 0.40816326530612246, 0.4267515923566879, 0.47783251231527096, 0.5471698113207547, 0.5738255033557047, 0.6011730205278593, 0.823]\n"
          ]
        }
      ]
    },
    {
      "cell_type": "markdown",
      "metadata": {
        "id": "7PYLz-1STzOu"
      },
      "source": [
        "ANSWER: The model above is a weakly calibrated model because each accuracy value differs from the given bucket values, however they do increase with each increased bucket value so there is some positive correlation."
      ]
    },
    {
      "cell_type": "markdown",
      "metadata": {
        "id": "tIeZGen1TzOv"
      },
      "source": [
        "### Question 7 EXTRA CREDIT: Feature generation\n",
        "---\n",
        "1. Design new features to see if you can produce a Bernoulli Naive Bayes model with better performance.\n",
        "1. Show the accuracy of a model based on the original features and the accuracy of the model based on the new features.\n",
        "\n",
        "**Note that improving results is actually hard.**\n",
        "\n",
        "Here are a few ideas to get you started:\n",
        "- Try summing or averaging the pixel values in each row.\n",
        "- Try summing or averaging the pixel values in each column.\n",
        "- Try summing or averaging the pixel values in each square block. (pick various block sizes)\n",
        "- Try implementing [*maxpool*](https://computersciencewiki.org/index.php/Max-pooling_/_Pooling) features, taking a rolling maximum over sub-regions of a the image. \n",
        "- In any case, you can either transform the original data or add new \"features\" to it.\n",
        "\n",
        "Notes:\n",
        "* Train on the mini train set (enhanced to comprise the new features).\n",
        "* Evaulate performance on the dev set.\n",
        "* Ensure that your code is well commented."
      ]
    },
    {
      "cell_type": "code",
      "metadata": {
        "id": "6GtYu5ezTzOv"
      },
      "source": [
        "def Q7():\n",
        "\n",
        "### STUDENT START ###\n",
        "\n",
        "\n",
        "### STUDENT END ###\n",
        "\n",
        "Q7()"
      ],
      "execution_count": null,
      "outputs": []
    },
    {
      "cell_type": "code",
      "metadata": {
        "id": "4hOkGA6Rufd6"
      },
      "source": [
        ""
      ],
      "execution_count": null,
      "outputs": []
    }
  ]
}